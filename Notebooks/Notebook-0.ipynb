{
    "metadata": {
        "kernelspec": {
            "name": "SQL",
            "display_name": "SQL",
            "language": "sql"
        },
        "language_info": {
            "name": "sql",
            "version": ""
        }
    },
    "nbformat_minor": 2,
    "nbformat": 4,
    "cells": [
        {
            "cell_type": "code",
            "source": [
                "SELECT TOP (10) [imdb_title_id]\n",
                "      ,[title]\n",
                "      ,[original_title]\n",
                "      ,[year]\n",
                "      ,[date_published]\n",
                "      ,[genre]\n",
                "      ,[duration]\n",
                "      ,[country]\n",
                "      ,[language]\n",
                "      ,[director]\n",
                "      ,[writer]\n",
                "      ,[production_company]\n",
                "      ,[actors]\n",
                "      ,[description]\n",
                "      ,[avg_vote]\n",
                "      ,[votes]\n",
                "      ,[budget]\n",
                "      ,[usa_gross_income]\n",
                "      ,[worlwide_gross_income]\n",
                "      ,[metascore]\n",
                "      ,[reviews_from_users]\n",
                "      ,[reviews_from_critics]\n",
                "  FROM [IMDB].[dbo].[IMDb_movies]"
            ],
            "metadata": {
                "azdata_cell_guid": "e3a3e182-0698-422d-ab4f-0fd0cff1b86f"
            },
            "outputs": [],
            "execution_count": null
        }
    ]
}