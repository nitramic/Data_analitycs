{
    "metadata": {
        "kernelspec": {
            "name": "SQL",
            "display_name": "SQL",
            "language": "sql"
        },
        "language_info": {
            "name": "sql",
            "version": ""
        }
    },
    "nbformat_minor": 2,
    "nbformat": 4,
    "cells": [
        {
            "cell_type": "markdown",
            "source": [
                "Primero seleccionamos la base (En mi caso Coder)"
            ],
            "metadata": {
                "azdata_cell_guid": "28cfe582-bb61-4354-973d-64bec363b6e1"
            }
        },
        {
            "cell_type": "code",
            "source": [
                "USE CODER;"
            ],
            "metadata": {
                "azdata_cell_guid": "602c4dd9-469b-4007-8015-ace8f46b833e"
            },
            "outputs": [
                {
                    "output_type": "display_data",
                    "data": {
                        "text/html": "Commands completed successfully."
                    },
                    "metadata": {}
                },
                {
                    "output_type": "display_data",
                    "data": {
                        "text/html": "Total execution time: 00:00:00.006"
                    },
                    "metadata": {}
                }
            ],
            "execution_count": 4
        },
        {
            "cell_type": "code",
            "source": [
                "insert into dbo.Clientes (idcliente, nombre, apellido, dni)\n",
                "VALUES ('2','Agustina','ddd','55555'),\n",
                "('3','Jose','Perez','666666');"
            ],
            "metadata": {
                "azdata_cell_guid": "62941332-24b8-4f85-8c02-b51079319747"
            },
            "outputs": [
                {
                    "output_type": "display_data",
                    "data": {
                        "text/html": "(2 rows affected)"
                    },
                    "metadata": {}
                },
                {
                    "output_type": "display_data",
                    "data": {
                        "text/html": "Total execution time: 00:00:00.084"
                    },
                    "metadata": {}
                }
            ],
            "execution_count": 5
        },
        {
            "cell_type": "markdown",
            "source": [
                "ahora vemos los resultados (?)"
            ],
            "metadata": {
                "azdata_cell_guid": "283bd071-3600-48e2-8f26-4f07c959ebb4"
            }
        },
        {
            "cell_type": "code",
            "source": [
                "select * from dbo.Clientes;"
            ],
            "metadata": {
                "azdata_cell_guid": "41c918f4-27c1-4b5d-8630-6c02cc7e5df5"
            },
            "outputs": [
                {
                    "output_type": "display_data",
                    "data": {
                        "text/html": "(2 rows affected)"
                    },
                    "metadata": {}
                },
                {
                    "output_type": "display_data",
                    "data": {
                        "text/html": "Total execution time: 00:00:00.037"
                    },
                    "metadata": {}
                },
                {
                    "output_type": "execute_result",
                    "execution_count": 6,
                    "data": {
                        "application/vnd.dataresource+json": {
                            "schema": {
                                "fields": [
                                    {
                                        "name": "idcliente"
                                    },
                                    {
                                        "name": "nombre"
                                    },
                                    {
                                        "name": "apellido"
                                    },
                                    {
                                        "name": "dni"
                                    },
                                    {
                                        "name": "telefono"
                                    }
                                ]
                            },
                            "data": [
                                {
                                    "0": "2",
                                    "1": "Agustina",
                                    "2": "ddd",
                                    "3": "55555",
                                    "4": "NULL"
                                },
                                {
                                    "0": "3",
                                    "1": "Jose",
                                    "2": "Perez",
                                    "3": "666666",
                                    "4": "NULL"
                                }
                            ]
                        },
                        "text/html": "<table><tr><th>idcliente</th><th>nombre</th><th>apellido</th><th>dni</th><th>telefono</th></tr><tr><td>2</td><td>Agustina</td><td>ddd</td><td>55555</td><td>NULL</td></tr><tr><td>3</td><td>Jose</td><td>Perez</td><td>666666</td><td>NULL</td></tr></table>"
                    },
                    "metadata": {}
                }
            ],
            "execution_count": 6
        },
        {
            "cell_type": "markdown",
            "source": [
                "Ahora Hacemos Cambios en los datos de las columnas"
            ],
            "metadata": {
                "azdata_cell_guid": "9335d145-6ba3-4653-b8e5-0f20358edbd8"
            }
        },
        {
            "cell_type": "code",
            "source": [
                "UPDATE dbo.clientes SET DNI='7777777' WHERE idcliente ='6';\n",
                "\n",
                "UPDATE dbo.clientes SET DNI='7777777' WHERE apellido ='ddd';"
            ],
            "metadata": {
                "azdata_cell_guid": "e79f0da1-86a8-44b0-8247-39a13a912d9e"
            },
            "outputs": [
                {
                    "output_type": "display_data",
                    "data": {
                        "text/html": "(0 rows affected)"
                    },
                    "metadata": {}
                },
                {
                    "output_type": "display_data",
                    "data": {
                        "text/html": "(1 row affected)"
                    },
                    "metadata": {}
                },
                {
                    "output_type": "display_data",
                    "data": {
                        "text/html": "Total execution time: 00:00:00.358"
                    },
                    "metadata": {}
                }
            ],
            "execution_count": 7
        },
        {
            "cell_type": "markdown",
            "source": [
                "Revisamos los resultados"
            ],
            "metadata": {
                "azdata_cell_guid": "42ed1c74-6a99-47a0-90f7-508c659d3b88"
            }
        },
        {
            "cell_type": "code",
            "source": [
                "select * from dbo.Clientes;"
            ],
            "metadata": {
                "azdata_cell_guid": "baafdfb2-a793-4dc2-9708-d5e856fa1357"
            },
            "outputs": [
                {
                    "output_type": "display_data",
                    "data": {
                        "text/html": "(2 rows affected)"
                    },
                    "metadata": {}
                },
                {
                    "output_type": "display_data",
                    "data": {
                        "text/html": "Total execution time: 00:00:00.013"
                    },
                    "metadata": {}
                },
                {
                    "output_type": "execute_result",
                    "execution_count": 8,
                    "data": {
                        "application/vnd.dataresource+json": {
                            "schema": {
                                "fields": [
                                    {
                                        "name": "idcliente"
                                    },
                                    {
                                        "name": "nombre"
                                    },
                                    {
                                        "name": "apellido"
                                    },
                                    {
                                        "name": "dni"
                                    },
                                    {
                                        "name": "telefono"
                                    }
                                ]
                            },
                            "data": [
                                {
                                    "0": "2",
                                    "1": "Agustina",
                                    "2": "ddd",
                                    "3": "7777777",
                                    "4": "NULL"
                                },
                                {
                                    "0": "3",
                                    "1": "Jose",
                                    "2": "Perez",
                                    "3": "666666",
                                    "4": "NULL"
                                }
                            ]
                        },
                        "text/html": "<table><tr><th>idcliente</th><th>nombre</th><th>apellido</th><th>dni</th><th>telefono</th></tr><tr><td>2</td><td>Agustina</td><td>ddd</td><td>7777777</td><td>NULL</td></tr><tr><td>3</td><td>Jose</td><td>Perez</td><td>666666</td><td>NULL</td></tr></table>"
                    },
                    "metadata": {}
                }
            ],
            "execution_count": 8
        },
        {
            "cell_type": "markdown",
            "source": [
                "Probamos con los diferentes tipos de eliminación"
            ],
            "metadata": {
                "azdata_cell_guid": "88bf1bee-7b9e-4be7-a03b-b88c092f8efe"
            }
        },
        {
            "cell_type": "code",
            "source": [
                "delete from dbo.Clientes WHERE idcliente'6';"
            ],
            "metadata": {
                "azdata_cell_guid": "ad2d08b1-1713-4b35-b070-9b79164a3208"
            },
            "outputs": [],
            "execution_count": null
        },
        {
            "cell_type": "code",
            "source": [
                "delete from dbo.Clientes WHERE idcliente in ('4','5');"
            ],
            "metadata": {
                "azdata_cell_guid": "c8e023b5-8b6d-4eb4-bbae-4eb8e0847fcd"
            },
            "outputs": [
                {
                    "output_type": "display_data",
                    "data": {
                        "text/html": "(0 rows affected)"
                    },
                    "metadata": {}
                },
                {
                    "output_type": "display_data",
                    "data": {
                        "text/html": "Total execution time: 00:00:00.094"
                    },
                    "metadata": {}
                }
            ],
            "execution_count": 10
        },
        {
            "cell_type": "code",
            "source": [
                "delete from dbo.Clientes WHERE nombre='Jose';"
            ],
            "metadata": {
                "azdata_cell_guid": "5ed24d00-7e34-477a-88c8-c1a17b46b379"
            },
            "outputs": [
                {
                    "output_type": "display_data",
                    "data": {
                        "text/html": "(1 row affected)"
                    },
                    "metadata": {}
                },
                {
                    "output_type": "display_data",
                    "data": {
                        "text/html": "Total execution time: 00:00:00.325"
                    },
                    "metadata": {}
                }
            ],
            "execution_count": 11
        },
        {
            "cell_type": "markdown",
            "source": [
                "Y vemos que nos queda"
            ],
            "metadata": {
                "azdata_cell_guid": "55e29b4d-fbf0-446d-9af6-e6918937d5c0"
            }
        },
        {
            "cell_type": "code",
            "source": [
                "select * from dbo.Clientes;"
            ],
            "metadata": {
                "azdata_cell_guid": "f8198e55-22f5-430e-ad77-910551e0160b"
            },
            "outputs": [
                {
                    "output_type": "display_data",
                    "data": {
                        "text/html": "(1 row affected)"
                    },
                    "metadata": {}
                },
                {
                    "output_type": "display_data",
                    "data": {
                        "text/html": "Total execution time: 00:00:00.011"
                    },
                    "metadata": {}
                },
                {
                    "output_type": "execute_result",
                    "execution_count": 12,
                    "data": {
                        "application/vnd.dataresource+json": {
                            "schema": {
                                "fields": [
                                    {
                                        "name": "idcliente"
                                    },
                                    {
                                        "name": "nombre"
                                    },
                                    {
                                        "name": "apellido"
                                    },
                                    {
                                        "name": "dni"
                                    },
                                    {
                                        "name": "telefono"
                                    }
                                ]
                            },
                            "data": [
                                {
                                    "0": "2",
                                    "1": "Agustina",
                                    "2": "ddd",
                                    "3": "7777777",
                                    "4": "NULL"
                                }
                            ]
                        },
                        "text/html": "<table><tr><th>idcliente</th><th>nombre</th><th>apellido</th><th>dni</th><th>telefono</th></tr><tr><td>2</td><td>Agustina</td><td>ddd</td><td>7777777</td><td>NULL</td></tr></table>"
                    },
                    "metadata": {}
                }
            ],
            "execution_count": 12
        }
    ]
}