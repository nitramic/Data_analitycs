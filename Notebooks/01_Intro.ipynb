{
    "metadata": {
        "kernelspec": {
            "name": "SQL",
            "display_name": "SQL",
            "language": "sql"
        },
        "language_info": {
            "name": "sql",
            "version": ""
        }
    },
    "nbformat_minor": 2,
    "nbformat": 4,
    "cells": [
        {
            "cell_type": "markdown",
            "source": [
                "Vamos a crear una tabla (en mi caso CODER)"
            ],
            "metadata": {
                "azdata_cell_guid": "4011c845-ad2d-4a3f-b36a-c6003c3ee8e2"
            }
        },
        {
            "cell_type": "markdown",
            "source": [
                "Luego vamos a  jugar con los datos creando una tabla y columnas con los datos que quiero aloja."
            ],
            "metadata": {
                "azdata_cell_guid": "d018831c-fd33-4f8b-9549-65bec36cf975"
            }
        },
        {
            "cell_type": "code",
            "source": [
                "use CODER\n",
                "create SCHEMA sales;\n",
                "create table Clientes\n",
                "(\n",
                "    idcliente VARCHAR(200) PRIMARY KEY,\n",
                "    nombre VARCHAR(200),\n",
                "    apellido VARCHAR(200),\n",
                "    dni INT\n",
                ");"
            ],
            "metadata": {
                "azdata_cell_guid": "c6a6f085-70d4-4995-8acb-a65824b712ae"
            },
            "outputs": [],
            "execution_count": null
        },
        {
            "cell_type": "markdown",
            "source": [
                "Ahora vamos a alterar las columnas"
            ],
            "metadata": {
                "azdata_cell_guid": "77ebe30d-c95d-48a7-a476-77caa012effa"
            }
        },
        {
            "cell_type": "code",
            "source": [
                "alter table dbo.Clientes\n",
                "add telefono varchar(200);\n",
                "\n",
                "alter table dbo.Clientes\n",
                "alter COLUMN dni VARCHAR(200);"
            ],
            "metadata": {
                "azdata_cell_guid": "10e9ccb5-f757-4c5d-87d6-bb08db2013c3"
            },
            "outputs": [],
            "execution_count": null
        },
        {
            "cell_type": "markdown",
            "source": [
                "Para finalizar... DROPEAMOS!"
            ],
            "metadata": {
                "azdata_cell_guid": "aefae597-3ad3-42b5-9623-98f98ad8e09c"
            }
        },
        {
            "cell_type": "code",
            "source": [
                "DROP table dbo.Clientes;"
            ],
            "metadata": {
                "azdata_cell_guid": "5144ab00-c797-46b6-8fa4-ea15130071b9"
            },
            "outputs": [],
            "execution_count": null
        }
    ]
}