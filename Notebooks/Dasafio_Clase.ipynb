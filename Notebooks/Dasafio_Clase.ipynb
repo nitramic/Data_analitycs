{
    "metadata": {
        "kernelspec": {
            "name": "SQL",
            "display_name": "SQL",
            "language": "sql"
        },
        "language_info": {
            "name": "sql",
            "version": ""
        }
    },
    "nbformat_minor": 2,
    "nbformat": 4,
    "cells": [
        {
            "cell_type": "markdown",
            "source": [
                "Creamos nuestra base"
            ],
            "metadata": {
                "azdata_cell_guid": "6eb91e35-02c7-4502-91f3-a4c3913fa207"
            }
        },
        {
            "cell_type": "code",
            "source": [
                "use TestDB\n",
                "-- Create SCHEMA base1"
            ],
            "metadata": {
                "azdata_cell_guid": "35aa48b8-70c2-4b9b-8b97-d786772fc132"
            },
            "outputs": [],
            "execution_count": null
        },
        {
            "cell_type": "markdown",
            "source": [
                "Creamos nuestras Tablas"
            ],
            "metadata": {
                "azdata_cell_guid": "98030421-1239-498a-a67f-9ae00c662bb2"
            }
        },
        {
            "cell_type": "code",
            "source": [
                "Create TABLE Argentina \n",
                "(\n",
                "    idArgentina VARCHAR(20) PRIMARY KEY,\n",
                "    Provincia VARCHAR(200) NOT NULL,\n",
                "    Municipio VARCHAR(200) NOT NULL\n",
                "    );\n",
                "\n",
                "CREATE TABLE Provincia\n",
                "(\n",
                "    idProvincia VARCHAR(200) PRIMARY KEY,\n",
                "    Poblacion VARCHAR(200),\n",
                "    idArgentina VARCHAR(20) FOREIGN KEY REFERENCES Argentina(idArgentina)\n",
                ");\n",
                "\n",
                ""
            ],
            "metadata": {
                "azdata_cell_guid": "62e10ab6-ece1-490f-8b9d-f6fe4c1a60ab"
            },
            "outputs": [],
            "execution_count": null
        },
        {
            "cell_type": "markdown",
            "source": [
                "Hacemos el insert de los datos dentro de Nuestras tablas"
            ],
            "metadata": {
                "azdata_cell_guid": "6c597afa-11fe-47ad-ae46-ba49b0d743f9"
            }
        },
        {
            "cell_type": "code",
            "source": [
                "INSERT into Argentina VALUES ('BA01','Buenos Aires','CABA');\n",
                "\n",
                "INSERT into Provincia (idProvincia,Poblacion,idArgentina)\n",
                "VALUES ('1','1000','BA01');\n",
                "\n",
                " "
            ],
            "metadata": {
                "azdata_cell_guid": "6cf15b38-b52c-4359-9564-3a22d472b6e4"
            },
            "outputs": [],
            "execution_count": null
        },
        {
            "cell_type": "markdown",
            "source": [
                "Ahora vemos como nos queda al final"
            ],
            "metadata": {
                "azdata_cell_guid": "b394d3c1-0341-4f56-965b-9f1940f6f277"
            }
        },
        {
            "cell_type": "code",
            "source": [
                "-- Select rows from a Table or View '[TableOrViewName]' in schema '[dbo]'\n",
                " SELECT * FROM Argentina\n",
                " Select * from Provincia"
            ],
            "metadata": {
                "azdata_cell_guid": "ea8ab900-35ad-4c87-bee6-f2f4a1fcb520"
            },
            "outputs": [],
            "execution_count": null
        },
        {
            "cell_type": "code",
            "source": [
                "DROP TABLE Argentina;\n",
                "DROP TABLE Provincia;"
            ],
            "metadata": {
                "azdata_cell_guid": "f7f6cc99-2741-4414-80f1-bf83f5c015b1"
            },
            "outputs": [],
            "execution_count": null
        }
    ]
}